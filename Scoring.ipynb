{
 "cells": [
  {
   "cell_type": "markdown",
   "metadata": {},
   "source": [
    "# Анализ данных в задаче кредитного скоринга"
   ]
  },
  {
   "cell_type": "markdown",
   "metadata": {},
   "source": [
    "Используется датасет с данными о кредитных историях клиентов одного из банков. Поля в предоставляемых данных имеют следующий смысл:\n",
    "- LIMIT_BAL: размер кредитного лимита (в том числе и на семью клиента)\n",
    "- SEX: пол клиента (1 = мужской, 2 = женский )\n",
    "- EDUCATION: образование (0 = доктор, 1 = магистр; 2 = бакалавр; 3 = выпускник школы; 4 = начальное образование; 5= прочее; 6 = нет данных ).\n",
    "- MARRIAGE: (0 = отказываюсь отвечать; 1 = замужем/женат; 2 = холост; 3 = нет данных).\n",
    "- AGE: возраст в годах\n",
    "- PAY_0 - PAY_6 : История прошлых платежей по кредиту. PAY_6 - платеж в апреле, ... Pay_0 - платеж в сентябре. Платеж = (0 = исправный платеж, 1=задержка в один месяц, 2=задержка в 2 месяца ...)\n",
    "- BILL_AMT1 - BILL_AMT6: задолженность, BILL_AMT6 - на апрель, BILL_AMT1 - на сентябрь\n",
    "- PAY_AMT1 - PAY_AMT6: сумма уплаченная в PAY_AMT6 - апреле, ..., PAY_AMT1 - сентябре\n",
    "- default - индикатор невозврата денежных средств\n",
    "\n",
    "Проверим следующие гипотезы для платящих вовремя (default=0) и должников (default=1):\n",
    "* равенство медианных значений кредитного лимита\n",
    "* равенство распределений\n",
    "* влияние гендерного состава\n",
    "* влияние образования\n",
    "* влияние семейного положения\n",
    "* влияние возраста"
   ]
  },
  {
   "cell_type": "markdown",
   "metadata": {},
   "source": [
    "В этой небольшой работе я не ставлю перед собой цели исчерпывающе ответить на вопросы, возникающие при кредитном анализе. Здесь я хочу продемонстрировать, как работают статистические критерии, а также показать разницу между статистической и практической значимостью"
   ]
  },
  {
   "cell_type": "code",
   "execution_count": 67,
   "metadata": {},
   "outputs": [],
   "source": [
    "import pandas as pd\n",
    "import numpy as np"
   ]
  },
  {
   "cell_type": "code",
   "execution_count": 3,
   "metadata": {},
   "outputs": [],
   "source": [
    "import matplotlib.pyplot as plt"
   ]
  },
  {
   "cell_type": "code",
   "execution_count": 4,
   "metadata": {},
   "outputs": [
    {
     "data": {
      "text/html": [
       "<div>\n",
       "<style scoped>\n",
       "    .dataframe tbody tr th:only-of-type {\n",
       "        vertical-align: middle;\n",
       "    }\n",
       "\n",
       "    .dataframe tbody tr th {\n",
       "        vertical-align: top;\n",
       "    }\n",
       "\n",
       "    .dataframe thead th {\n",
       "        text-align: right;\n",
       "    }\n",
       "</style>\n",
       "<table border=\"1\" class=\"dataframe\">\n",
       "  <thead>\n",
       "    <tr style=\"text-align: right;\">\n",
       "      <th></th>\n",
       "      <th>ID</th>\n",
       "      <th>LIMIT_BAL</th>\n",
       "      <th>SEX</th>\n",
       "      <th>EDUCATION</th>\n",
       "      <th>MARRIAGE</th>\n",
       "      <th>AGE</th>\n",
       "      <th>PAY_0</th>\n",
       "      <th>PAY_2</th>\n",
       "      <th>PAY_3</th>\n",
       "      <th>PAY_4</th>\n",
       "      <th>...</th>\n",
       "      <th>BILL_AMT4</th>\n",
       "      <th>BILL_AMT5</th>\n",
       "      <th>BILL_AMT6</th>\n",
       "      <th>PAY_AMT1</th>\n",
       "      <th>PAY_AMT2</th>\n",
       "      <th>PAY_AMT3</th>\n",
       "      <th>PAY_AMT4</th>\n",
       "      <th>PAY_AMT5</th>\n",
       "      <th>PAY_AMT6</th>\n",
       "      <th>default</th>\n",
       "    </tr>\n",
       "  </thead>\n",
       "  <tbody>\n",
       "    <tr>\n",
       "      <th>0</th>\n",
       "      <td>1</td>\n",
       "      <td>20000</td>\n",
       "      <td>2</td>\n",
       "      <td>2</td>\n",
       "      <td>1</td>\n",
       "      <td>24</td>\n",
       "      <td>2</td>\n",
       "      <td>2</td>\n",
       "      <td>0</td>\n",
       "      <td>0</td>\n",
       "      <td>...</td>\n",
       "      <td>0</td>\n",
       "      <td>0</td>\n",
       "      <td>0</td>\n",
       "      <td>0</td>\n",
       "      <td>689</td>\n",
       "      <td>0</td>\n",
       "      <td>0</td>\n",
       "      <td>0</td>\n",
       "      <td>0</td>\n",
       "      <td>1</td>\n",
       "    </tr>\n",
       "    <tr>\n",
       "      <th>1</th>\n",
       "      <td>2</td>\n",
       "      <td>120000</td>\n",
       "      <td>2</td>\n",
       "      <td>2</td>\n",
       "      <td>2</td>\n",
       "      <td>26</td>\n",
       "      <td>0</td>\n",
       "      <td>2</td>\n",
       "      <td>0</td>\n",
       "      <td>0</td>\n",
       "      <td>...</td>\n",
       "      <td>3272</td>\n",
       "      <td>3455</td>\n",
       "      <td>3261</td>\n",
       "      <td>0</td>\n",
       "      <td>1000</td>\n",
       "      <td>1000</td>\n",
       "      <td>1000</td>\n",
       "      <td>0</td>\n",
       "      <td>2000</td>\n",
       "      <td>1</td>\n",
       "    </tr>\n",
       "    <tr>\n",
       "      <th>2</th>\n",
       "      <td>3</td>\n",
       "      <td>90000</td>\n",
       "      <td>2</td>\n",
       "      <td>2</td>\n",
       "      <td>2</td>\n",
       "      <td>34</td>\n",
       "      <td>0</td>\n",
       "      <td>0</td>\n",
       "      <td>0</td>\n",
       "      <td>0</td>\n",
       "      <td>...</td>\n",
       "      <td>14331</td>\n",
       "      <td>14948</td>\n",
       "      <td>15549</td>\n",
       "      <td>1518</td>\n",
       "      <td>1500</td>\n",
       "      <td>1000</td>\n",
       "      <td>1000</td>\n",
       "      <td>1000</td>\n",
       "      <td>5000</td>\n",
       "      <td>0</td>\n",
       "    </tr>\n",
       "    <tr>\n",
       "      <th>3</th>\n",
       "      <td>4</td>\n",
       "      <td>50000</td>\n",
       "      <td>2</td>\n",
       "      <td>2</td>\n",
       "      <td>1</td>\n",
       "      <td>37</td>\n",
       "      <td>0</td>\n",
       "      <td>0</td>\n",
       "      <td>0</td>\n",
       "      <td>0</td>\n",
       "      <td>...</td>\n",
       "      <td>28314</td>\n",
       "      <td>28959</td>\n",
       "      <td>29547</td>\n",
       "      <td>2000</td>\n",
       "      <td>2019</td>\n",
       "      <td>1200</td>\n",
       "      <td>1100</td>\n",
       "      <td>1069</td>\n",
       "      <td>1000</td>\n",
       "      <td>0</td>\n",
       "    </tr>\n",
       "    <tr>\n",
       "      <th>4</th>\n",
       "      <td>5</td>\n",
       "      <td>50000</td>\n",
       "      <td>1</td>\n",
       "      <td>2</td>\n",
       "      <td>1</td>\n",
       "      <td>57</td>\n",
       "      <td>0</td>\n",
       "      <td>0</td>\n",
       "      <td>0</td>\n",
       "      <td>0</td>\n",
       "      <td>...</td>\n",
       "      <td>20940</td>\n",
       "      <td>19146</td>\n",
       "      <td>19131</td>\n",
       "      <td>2000</td>\n",
       "      <td>36681</td>\n",
       "      <td>10000</td>\n",
       "      <td>9000</td>\n",
       "      <td>689</td>\n",
       "      <td>679</td>\n",
       "      <td>0</td>\n",
       "    </tr>\n",
       "  </tbody>\n",
       "</table>\n",
       "<p>5 rows × 25 columns</p>\n",
       "</div>"
      ],
      "text/plain": [
       "   ID  LIMIT_BAL  SEX  EDUCATION  MARRIAGE  AGE  PAY_0  PAY_2  PAY_3  PAY_4  \\\n",
       "0   1      20000    2          2         1   24      2      2      0      0   \n",
       "1   2     120000    2          2         2   26      0      2      0      0   \n",
       "2   3      90000    2          2         2   34      0      0      0      0   \n",
       "3   4      50000    2          2         1   37      0      0      0      0   \n",
       "4   5      50000    1          2         1   57      0      0      0      0   \n",
       "\n",
       "    ...     BILL_AMT4  BILL_AMT5  BILL_AMT6  PAY_AMT1  PAY_AMT2  PAY_AMT3  \\\n",
       "0   ...             0          0          0         0       689         0   \n",
       "1   ...          3272       3455       3261         0      1000      1000   \n",
       "2   ...         14331      14948      15549      1518      1500      1000   \n",
       "3   ...         28314      28959      29547      2000      2019      1200   \n",
       "4   ...         20940      19146      19131      2000     36681     10000   \n",
       "\n",
       "   PAY_AMT4  PAY_AMT5  PAY_AMT6  default  \n",
       "0         0         0         0        1  \n",
       "1      1000         0      2000        1  \n",
       "2      1000      1000      5000        0  \n",
       "3      1100      1069      1000        0  \n",
       "4      9000       689       679        0  \n",
       "\n",
       "[5 rows x 25 columns]"
      ]
     },
     "execution_count": 4,
     "metadata": {},
     "output_type": "execute_result"
    }
   ],
   "source": [
    "data = pd.read_csv('credit_card_default_analysis.csv')\n",
    "data.head()"
   ]
  },
  {
   "cell_type": "code",
   "execution_count": 5,
   "metadata": {},
   "outputs": [
    {
     "data": {
      "text/plain": [
       "count      30000.000000\n",
       "mean      167484.322667\n",
       "std       129747.661567\n",
       "min        10000.000000\n",
       "25%        50000.000000\n",
       "50%       140000.000000\n",
       "75%       240000.000000\n",
       "max      1000000.000000\n",
       "Name: LIMIT_BAL, dtype: float64"
      ]
     },
     "execution_count": 5,
     "metadata": {},
     "output_type": "execute_result"
    }
   ],
   "source": [
    "data['LIMIT_BAL'].describe()"
   ]
  },
  {
   "cell_type": "code",
   "execution_count": 7,
   "metadata": {},
   "outputs": [
    {
     "data": {
      "text/plain": [
       "ID           0\n",
       "LIMIT_BAL    0\n",
       "SEX          0\n",
       "EDUCATION    0\n",
       "MARRIAGE     0\n",
       "AGE          0\n",
       "PAY_0        0\n",
       "PAY_2        0\n",
       "PAY_3        0\n",
       "PAY_4        0\n",
       "PAY_5        0\n",
       "PAY_6        0\n",
       "BILL_AMT1    0\n",
       "BILL_AMT2    0\n",
       "BILL_AMT3    0\n",
       "BILL_AMT4    0\n",
       "BILL_AMT5    0\n",
       "BILL_AMT6    0\n",
       "PAY_AMT1     0\n",
       "PAY_AMT2     0\n",
       "PAY_AMT3     0\n",
       "PAY_AMT4     0\n",
       "PAY_AMT5     0\n",
       "PAY_AMT6     0\n",
       "default      0\n",
       "dtype: int64"
      ]
     },
     "execution_count": 7,
     "metadata": {},
     "output_type": "execute_result"
    }
   ],
   "source": [
    "# Проверим на наличин NaN\n",
    "data.isna().sum()"
   ]
  },
  {
   "cell_type": "markdown",
   "metadata": {},
   "source": [
    "### Гипотеза о равенстве медианных значений кредитного лимита"
   ]
  },
  {
   "cell_type": "code",
   "execution_count": 8,
   "metadata": {},
   "outputs": [
    {
     "name": "stdout",
     "output_type": "stream",
     "text": [
      "default\n",
      "0    23364\n",
      "1     6636\n",
      "dtype: int64\n"
     ]
    },
    {
     "data": {
      "image/png": "[encoded data removed]",
      "text/plain": [
       "<Figure size 720x288 with 2 Axes>"
      ]
     },
     "metadata": {
      "needs_background": "light"
     },
     "output_type": "display_data"
    }
   ],
   "source": [
    "# Визуально сравним количество и медианы LIMIT_BAL в зависимости от default\n",
    "df_grouped = data.groupby('default')\n",
    "print(df_grouped.size())\n",
    "\n",
    "fig, axes = plt.subplots(1,2, figsize=(10,4))\n",
    "df_grouped['LIMIT_BAL'].size().plot(kind='bar', ax=axes[0])\n",
    "df_grouped['LIMIT_BAL'].apply(np.median).plot(kind='bar', ax=axes[1])\n",
    "axes[0].set_title('LIMIT_BAL Counts')\n",
    "axes[1].set_title('LIMIT_BAL Median')\n",
    "plt.tight_layout();"
   ]
  },
  {
   "cell_type": "code",
   "execution_count": 9,
   "metadata": {},
   "outputs": [
    {
     "data": {
      "image/png": "[encoded data removed]",
      "text/plain": [
       "<Figure size 720x288 with 2 Axes>"
      ]
     },
     "metadata": {
      "needs_background": "light"
     },
     "output_type": "display_data"
    }
   ],
   "source": [
    "# Построим распределения LIMIT_BAL в зависимости от default\n",
    "fig, axes = plt.subplots(1,2, figsize=(10,4))\n",
    "df_grouped['LIMIT_BAL'].plot(kind='hist', bins=45, legend=True, ax=axes[0])\n",
    "df_grouped['LIMIT_BAL'].plot(kind='hist', bins=65, legend=True, logx=True, ax=axes[1])\n",
    "axes[0].set_title('LIMIT_BAL distribution')\n",
    "axes[0].set_xlabel('LIMIT_BAL value')\n",
    "axes[1].set_title('LIMIT_BAL distribution, log scale')\n",
    "axes[1].set_xlabel('log LIMIT_BAL value')\n",
    "plt.tight_layout();"
   ]
  },
  {
   "cell_type": "markdown",
   "metadata": {},
   "source": [
    "Гистограммы показывают, что распределения LIMIT_BAL для для вернувших и не вернувших кредиты не подчиняются нормальному. Следовательно, нужно использовать непараметрические критерии для проверки равентсва точечных оценок и проверки однородности.\n",
    "\n",
    "\n",
    "Для проверки гипотезы о равенстве медианных значений используем bootstrap"
   ]
  },
  {
   "cell_type": "code",
   "execution_count": 10,
   "metadata": {},
   "outputs": [],
   "source": [
    "def get_bootstrap_samples(data, n_samples):\n",
    "    indices = np.random.randint(0, len(data), (n_samples, len(data)))\n",
    "    samples = data[indices]\n",
    "    return samples"
   ]
  },
  {
   "cell_type": "code",
   "execution_count": 11,
   "metadata": {},
   "outputs": [],
   "source": [
    "def stat_intervals(stat, alpha):\n",
    "    boundaries = np.percentile(stat, [100 * alpha / 2., 100 * (1 - alpha / 2.)])\n",
    "    return boundaries"
   ]
  },
  {
   "cell_type": "code",
   "execution_count": 20,
   "metadata": {},
   "outputs": [
    {
     "name": "stdout",
     "output_type": "stream",
     "text": [
      "95% confidence interval for the default=0: [ 150000.  150000.]\n",
      "95% confidence interval for the default=1: [ 80000.  90000.]\n",
      "95% confidence interval for delta median:  [ 60000.  70000.]\n"
     ]
    }
   ],
   "source": [
    "# Интервальная оценка медианы\n",
    "def_0 = data[data.default==0].LIMIT_BAL.values\n",
    "def_1 = data[data.default==1].LIMIT_BAL.values\n",
    "\n",
    "np.random.seed(0)\n",
    "\n",
    "def_0_med = list(map(np.median, get_bootstrap_samples(def_0, 1000)))\n",
    "def_1_med = list(map(np.median, get_bootstrap_samples(def_1, 1000)))\n",
    "delta_med = list(map(lambda x: x[0] - x[1], zip(def_0_med, def_1_med)))\n",
    "\n",
    "print ('95% confidence interval for the default=0: {}'.format(stat_intervals(def_0_med, 0.05)))\n",
    "print ('95% confidence interval for the default=1: {}'.format(stat_intervals(def_1_med, 0.05)))\n",
    "print ('95% confidence interval for delta median:  {}'.format(stat_intervals(delta_med, 0.05)))"
   ]
  },
  {
   "cell_type": "markdown",
   "metadata": {},
   "source": [
    "**Вывод 1.** Доверительные интервалы для разности медиан не содержат 0, значит, гипотезу о равенстве медиан отвергаем"
   ]
  },
  {
   "cell_type": "markdown",
   "metadata": {},
   "source": [
    "### Гипотеза о равенстве распределений"
   ]
  },
  {
   "cell_type": "markdown",
   "metadata": {},
   "source": [
    "Для проверки этой гипотезы воспользуемся перестановочным критерием:\n",
    "\n",
    "$H_0\\colon F_{X_1}(x) = F_{X_2}(x)$\n",
    "\n",
    "$H_1\\colon F_{X_1}(x) = F_{X_2}(x + \\Delta), \\Delta\\neq 0$"
   ]
  },
  {
   "cell_type": "code",
   "execution_count": 21,
   "metadata": {},
   "outputs": [],
   "source": [
    "# t-статистика\n",
    "def permutation_t_stat_ind(sample1, sample2):\n",
    "    return np.mean(sample1) - np.mean(sample2)"
   ]
  },
  {
   "cell_type": "code",
   "execution_count": 26,
   "metadata": {},
   "outputs": [],
   "source": [
    "# Генерация случайных индексов для разбиения выборок\n",
    "def get_random_combinations(n1, n2, max_combinations):\n",
    "    index = list(range(n1 + n2))\n",
    "    indices = set([tuple(index)])\n",
    "    for i in range(max_combinations - 1):\n",
    "        np.random.shuffle(index)\n",
    "        indices.add(tuple(index))\n",
    "    return [(index[:n1], index[n1:]) for index in indices]"
   ]
  },
  {
   "cell_type": "code",
   "execution_count": 27,
   "metadata": {},
   "outputs": [],
   "source": [
    "# Нулевое распределение\n",
    "def permutation_zero_dist_ind(sample1, sample2, max_combinations = None):\n",
    "    joined_sample = np.hstack((sample1, sample2))\n",
    "    n1 = len(sample1)\n",
    "    n = len(joined_sample)\n",
    "    \n",
    "    if max_combinations:\n",
    "        indices = get_random_combinations(n1, len(sample2), max_combinations)\n",
    "    else:\n",
    "        indices = [(list(index), filter(lambda i: i not in index, range(n))) \\\n",
    "                    for index in itertools.combinations(range(n), n1)]\n",
    "    \n",
    "    distr = [joined_sample[list(i[0])].mean() - joined_sample[list(i[1])].mean() \\\n",
    "             for i in indices]\n",
    "    return distr"
   ]
  },
  {
   "cell_type": "code",
   "execution_count": 28,
   "metadata": {},
   "outputs": [],
   "source": [
    "# Перестановочный критерий\n",
    "def permutation_test(sample, mean, max_permutations = None, alternative = 'two-sided'):\n",
    "    if alternative not in ('two-sided', 'less', 'greater'):\n",
    "        raise ValueError(\"alternative not recognized\\n\"\n",
    "                         \"should be 'two-sided', 'less' or 'greater'\")\n",
    "    \n",
    "    t_stat = permutation_t_stat_ind(sample, mean)\n",
    "    \n",
    "    zero_distr = permutation_zero_dist_ind(sample, mean, max_permutations)\n",
    "    \n",
    "    if alternative == 'two-sided':\n",
    "        return sum([1. if abs(x) >= abs(t_stat) else 0. for x in zero_distr]) / len(zero_distr)\n",
    "    \n",
    "    if alternative == 'less':\n",
    "        return sum([1. if x <= t_stat else 0. for x in zero_distr]) / len(zero_distr)\n",
    "\n",
    "    if alternative == 'greater':\n",
    "        return sum([1. if x >= t_stat else 0. for x in zero_distr]) / len(zero_distr)"
   ]
  },
  {
   "cell_type": "code",
   "execution_count": 29,
   "metadata": {},
   "outputs": [
    {
     "name": "stdout",
     "output_type": "stream",
     "text": [
      "p-value: 0.0005%\n"
     ]
    }
   ],
   "source": [
    "print ('p-value: {}%'.format(permutation_test(def_0, def_1, max_permutations = 2000)))"
   ]
  },
  {
   "cell_type": "markdown",
   "metadata": {},
   "source": [
    "**Вывод 2:** p-value значительно меньше уровня значимости 0.05, поэтому нулевую гипотезу о равенстве распределений LIMIT_BAL для групп default = 1 и 2 отвергаем"
   ]
  },
  {
   "cell_type": "markdown",
   "metadata": {},
   "source": [
    "### Влияние гендерного состава"
   ]
  },
  {
   "cell_type": "code",
   "execution_count": 31,
   "metadata": {},
   "outputs": [
    {
     "name": "stdout",
     "output_type": "stream",
     "text": [
      "default  SEX\n",
      "0        1       9015\n",
      "         2      14349\n",
      "1        1       2873\n",
      "         2       3763\n",
      "dtype: int64\n"
     ]
    },
    {
     "data": {
      "image/png": "[encoded data removed]",
      "text/plain": [
       "<Figure size 432x288 with 1 Axes>"
      ]
     },
     "metadata": {
      "needs_background": "light"
     },
     "output_type": "display_data"
    }
   ],
   "source": [
    "# Распределение default по полу\n",
    "print (data.groupby(['default', 'SEX']).size())\n",
    "\n",
    "ax = df_grouped['SEX'].plot(kind='hist', title=('\"default\" distribution depending on SEX'), legend=True, xticks=(1,2))\n",
    "ax=ax[0]\n",
    "ax.set_xlabel('men(1),  women(2)');"
   ]
  },
  {
   "cell_type": "markdown",
   "metadata": {},
   "source": [
    "Мы должны проверить две гипотезы:\n",
    "\n",
    "$H_0\\colon p_1 = p_2$ - доли равны\n",
    "\n",
    "$H_1\\colon p_1 \\ne p_2$ - доли не равны\n",
    "\n",
    "Наши выборки удовлетворяют условию $n\\hat{p}>5$ и $n(1-\\hat{p})>5$, поэтому для проверки гипотезы можно пользоваться z-критерием для независимых выборок:\n",
    "$$Z({X_1, X_2}) =  \\frac{\\hat{p}_1 - \\hat{p}_2}{\\sqrt{P(1 - P)(\\frac{1}{n_1} + \\frac{1}{n_2})}}$$\n",
    "$$P = \\frac{\\hat{p}_1{n_1} + \\hat{p}_2{n_2}}{{n_1} + {n_2}} $$"
   ]
  },
  {
   "cell_type": "markdown",
   "metadata": {},
   "source": [
    "Интервальную оценку достоверности гипотезы проверим, построив доверительный интервал для $p_1 - p_2$:\n",
    "$$\\hat{p}_1 - \\hat{p}_2 \\pm z_{1-\\frac{\\alpha}{2}}\\sqrt{\\frac{\\hat{p}_1(1 - \\hat{p}_1)}{n_1} + \\frac{\\hat{p}_2(1 - \\hat{p}_2)}{n_2}},$$\n",
    "(в нашем случае доли НЕ близки к 0 или 1 и построение доверительного интервала Уилсона не требуется)"
   ]
  },
  {
   "cell_type": "code",
   "execution_count": 32,
   "metadata": {},
   "outputs": [
    {
     "data": {
      "text/html": [
       "<div>\n",
       "<style scoped>\n",
       "    .dataframe tbody tr th:only-of-type {\n",
       "        vertical-align: middle;\n",
       "    }\n",
       "\n",
       "    .dataframe tbody tr th {\n",
       "        vertical-align: top;\n",
       "    }\n",
       "\n",
       "    .dataframe thead th {\n",
       "        text-align: right;\n",
       "    }\n",
       "</style>\n",
       "<table border=\"1\" class=\"dataframe\">\n",
       "  <thead>\n",
       "    <tr style=\"text-align: right;\">\n",
       "      <th></th>\n",
       "      <th>default</th>\n",
       "      <th>0</th>\n",
       "      <th>1</th>\n",
       "    </tr>\n",
       "    <tr>\n",
       "      <th>default</th>\n",
       "      <th>SEX</th>\n",
       "      <th></th>\n",
       "      <th></th>\n",
       "    </tr>\n",
       "  </thead>\n",
       "  <tbody>\n",
       "    <tr>\n",
       "      <th rowspan=\"2\" valign=\"top\">0</th>\n",
       "      <th>2</th>\n",
       "      <td>0.614150</td>\n",
       "      <td>2.162297</td>\n",
       "    </tr>\n",
       "    <tr>\n",
       "      <th>1</th>\n",
       "      <td>0.385850</td>\n",
       "      <td>1.358499</td>\n",
       "    </tr>\n",
       "    <tr>\n",
       "      <th rowspan=\"2\" valign=\"top\">1</th>\n",
       "      <th>2</th>\n",
       "      <td>0.161060</td>\n",
       "      <td>0.567058</td>\n",
       "    </tr>\n",
       "    <tr>\n",
       "      <th>1</th>\n",
       "      <td>0.122967</td>\n",
       "      <td>0.432942</td>\n",
       "    </tr>\n",
       "  </tbody>\n",
       "</table>\n",
       "</div>"
      ],
      "text/plain": [
       "default             0         1\n",
       "default SEX                    \n",
       "0       2    0.614150  2.162297\n",
       "        1    0.385850  1.358499\n",
       "1       2    0.161060  0.567058\n",
       "        1    0.122967  0.432942"
      ]
     },
     "execution_count": 32,
     "metadata": {},
     "output_type": "execute_result"
    }
   ],
   "source": [
    "# Убедимся в отсутствии необходимости применения доверительного интервала Уилсона (главная диагональ таблцы)\n",
    "df_grouped['SEX'].value_counts().apply(lambda x: x/df_grouped['SEX'].size())"
   ]
  },
  {
   "cell_type": "code",
   "execution_count": 33,
   "metadata": {},
   "outputs": [],
   "source": [
    "import scipy\n",
    "from statsmodels.stats.proportion import proportion_confint"
   ]
  },
  {
   "cell_type": "code",
   "execution_count": 34,
   "metadata": {},
   "outputs": [],
   "source": [
    "# доверительный интервал разности долей\n",
    "def proportions_diff_confint_ind(sample1, sample2, alpha = 0.05):    \n",
    "    z = scipy.stats.norm.ppf(1 - alpha / 2.)\n",
    "    \n",
    "    p1 = float(sum(sample1)) / len(sample1)\n",
    "    p2 = float(sum(sample2)) / len(sample2)\n",
    "    \n",
    "    left_boundary = (p1 - p2) - z * np.sqrt(p1 * (1 - p1)/ len(sample1) + p2 * (1 - p2)/ len(sample2))\n",
    "    right_boundary = (p1 - p2) + z * np.sqrt(p1 * (1 - p1)/ len(sample1) + p2 * (1 - p2)/ len(sample2))\n",
    "    \n",
    "    return (left_boundary, right_boundary)"
   ]
  },
  {
   "cell_type": "code",
   "execution_count": 35,
   "metadata": {},
   "outputs": [],
   "source": [
    "# z-статистика\n",
    "def proportions_diff_z_stat_ind(sample1, sample2):\n",
    "    n1 = len(sample1)\n",
    "    n2 = len(sample2)\n",
    "    \n",
    "    p1 = float(sum(sample1)) / n1\n",
    "    p2 = float(sum(sample2)) / n2 \n",
    "    P = float(p1*n1 + p2*n2) / (n1 + n2)\n",
    "    \n",
    "    return (p1 - p2) / np.sqrt(P * (1 - P) * (1. / n1 + 1. / n2))"
   ]
  },
  {
   "cell_type": "code",
   "execution_count": 36,
   "metadata": {},
   "outputs": [],
   "source": [
    "# z-критерий\n",
    "def proportions_diff_z_test(z_stat, alternative = 'two-sided'):\n",
    "    if alternative not in ('two-sided', 'less', 'greater'):\n",
    "        raise ValueError(\"alternative not recognized\\n\"\n",
    "                         \"should be 'two-sided', 'less' or 'greater'\")\n",
    "    \n",
    "    if alternative == 'two-sided':\n",
    "        return 2 * (1 - scipy.stats.norm.cdf(np.abs(z_stat)))\n",
    "    \n",
    "    if alternative == 'less':\n",
    "        return scipy.stats.norm.cdf(z_stat)\n",
    "\n",
    "    if alternative == 'greater':\n",
    "        return 1 - scipy.stats.norm.cdf(z_stat)"
   ]
  },
  {
   "cell_type": "code",
   "execution_count": 37,
   "metadata": {},
   "outputs": [],
   "source": [
    "men = data[data.SEX==1].default.values\n",
    "women = data[data.SEX==2].default.values"
   ]
  },
  {
   "cell_type": "code",
   "execution_count": 38,
   "metadata": {},
   "outputs": [],
   "source": [
    "z_stat = proportions_diff_z_stat_ind(men, women)"
   ]
  },
  {
   "cell_type": "code",
   "execution_count": 42,
   "metadata": {},
   "outputs": [
    {
     "name": "stdout",
     "output_type": "stream",
     "text": [
      "p-value = 4.472866521609831e-12\n",
      "95% доверительный интервал разности долей: [ 0.024  0.044]\n"
     ]
    }
   ],
   "source": [
    "print ('p-value = {}'.format(proportions_diff_z_test(z_stat, alternative = 'two-sided')))\n",
    "print ('95% доверительный интервал разности долей: {}'.\n",
    "       format(np.round(proportions_diff_confint_ind(men, women, alpha = 0.05),3)))"
   ]
  },
  {
   "cell_type": "markdown",
   "metadata": {},
   "source": [
    "**Вывод 3:** оба критерия показывают, что гендерный состав групп людей, вернувших и не вернувших кредит, *отличается*"
   ]
  },
  {
   "cell_type": "markdown",
   "metadata": {},
   "source": [
    "## Влияние образования"
   ]
  },
  {
   "cell_type": "markdown",
   "metadata": {},
   "source": [
    "Проверять эту гипотезу будем с помощью критерия $\\chi^2$:\n",
    "$$\\chi^2=\\sum \\frac{(obs-exp)^2}{exp}$$\n",
    "Как покажут дальнейшие выкладки, условия его использования выполнены: все ожидаемые числа больше 1 и доля клеток с ожидаемыми числами <5 не превышает 20%.\n",
    "\n",
    "В демонстрационных целях построим несколько таблиц сопряжённости и покажем, как строится данный критерий:\n",
    "запишем в каждую ячейку соответствующее слагаемое, и чем больше оно будет, тем больший вклад оно вносит во всю сумму, и, тем самым, в опровержение нулевой гипотезы."
   ]
  },
  {
   "cell_type": "code",
   "execution_count": 43,
   "metadata": {},
   "outputs": [
    {
     "data": {
      "text/html": [
       "<div>\n",
       "<style scoped>\n",
       "    .dataframe tbody tr th:only-of-type {\n",
       "        vertical-align: middle;\n",
       "    }\n",
       "\n",
       "    .dataframe tbody tr th {\n",
       "        vertical-align: top;\n",
       "    }\n",
       "\n",
       "    .dataframe thead th {\n",
       "        text-align: right;\n",
       "    }\n",
       "</style>\n",
       "<table border=\"1\" class=\"dataframe\">\n",
       "  <thead>\n",
       "    <tr style=\"text-align: right;\">\n",
       "      <th>EDUCATION</th>\n",
       "      <th>0</th>\n",
       "      <th>1</th>\n",
       "      <th>2</th>\n",
       "      <th>3</th>\n",
       "      <th>4</th>\n",
       "      <th>5</th>\n",
       "      <th>6</th>\n",
       "      <th>All</th>\n",
       "    </tr>\n",
       "    <tr>\n",
       "      <th>default</th>\n",
       "      <th></th>\n",
       "      <th></th>\n",
       "      <th></th>\n",
       "      <th></th>\n",
       "      <th></th>\n",
       "      <th></th>\n",
       "      <th></th>\n",
       "      <th></th>\n",
       "    </tr>\n",
       "  </thead>\n",
       "  <tbody>\n",
       "    <tr>\n",
       "      <th>0</th>\n",
       "      <td>14</td>\n",
       "      <td>8549</td>\n",
       "      <td>10700</td>\n",
       "      <td>3680</td>\n",
       "      <td>116</td>\n",
       "      <td>262</td>\n",
       "      <td>43</td>\n",
       "      <td>23364</td>\n",
       "    </tr>\n",
       "    <tr>\n",
       "      <th>1</th>\n",
       "      <td>0</td>\n",
       "      <td>2036</td>\n",
       "      <td>3330</td>\n",
       "      <td>1237</td>\n",
       "      <td>7</td>\n",
       "      <td>18</td>\n",
       "      <td>8</td>\n",
       "      <td>6636</td>\n",
       "    </tr>\n",
       "    <tr>\n",
       "      <th>All</th>\n",
       "      <td>14</td>\n",
       "      <td>10585</td>\n",
       "      <td>14030</td>\n",
       "      <td>4917</td>\n",
       "      <td>123</td>\n",
       "      <td>280</td>\n",
       "      <td>51</td>\n",
       "      <td>30000</td>\n",
       "    </tr>\n",
       "  </tbody>\n",
       "</table>\n",
       "</div>"
      ],
      "text/plain": [
       "EDUCATION   0      1      2     3    4    5   6    All\n",
       "default                                               \n",
       "0          14   8549  10700  3680  116  262  43  23364\n",
       "1           0   2036   3330  1237    7   18   8   6636\n",
       "All        14  10585  14030  4917  123  280  51  30000"
      ]
     },
     "execution_count": 43,
     "metadata": {},
     "output_type": "execute_result"
    }
   ],
   "source": [
    "# Построим таблицу сопряжённости \"Education-Default\" НАБЛЮДАЕМЫХ значений\n",
    "df_cross_obs = pd.crosstab(data.default, data.EDUCATION, margins=True)\n",
    "df_cross_obs"
   ]
  },
  {
   "cell_type": "code",
   "execution_count": 44,
   "metadata": {},
   "outputs": [
    {
     "data": {
      "text/html": [
       "<div>\n",
       "<style scoped>\n",
       "    .dataframe tbody tr th:only-of-type {\n",
       "        vertical-align: middle;\n",
       "    }\n",
       "\n",
       "    .dataframe tbody tr th {\n",
       "        vertical-align: top;\n",
       "    }\n",
       "\n",
       "    .dataframe thead th {\n",
       "        text-align: right;\n",
       "    }\n",
       "</style>\n",
       "<table border=\"1\" class=\"dataframe\">\n",
       "  <thead>\n",
       "    <tr style=\"text-align: right;\">\n",
       "      <th>EDUCATION</th>\n",
       "      <th>0</th>\n",
       "      <th>1</th>\n",
       "      <th>2</th>\n",
       "      <th>3</th>\n",
       "      <th>4</th>\n",
       "      <th>5</th>\n",
       "      <th>6</th>\n",
       "      <th>All</th>\n",
       "    </tr>\n",
       "    <tr>\n",
       "      <th>default</th>\n",
       "      <th></th>\n",
       "      <th></th>\n",
       "      <th></th>\n",
       "      <th></th>\n",
       "      <th></th>\n",
       "      <th></th>\n",
       "      <th></th>\n",
       "      <th></th>\n",
       "    </tr>\n",
       "  </thead>\n",
       "  <tbody>\n",
       "    <tr>\n",
       "      <th>0</th>\n",
       "      <td>10.9032</td>\n",
       "      <td>8243.598</td>\n",
       "      <td>10926.564</td>\n",
       "      <td>3829.3596</td>\n",
       "      <td>95.7924</td>\n",
       "      <td>218.064</td>\n",
       "      <td>39.7188</td>\n",
       "      <td>23364.0</td>\n",
       "    </tr>\n",
       "    <tr>\n",
       "      <th>1</th>\n",
       "      <td>3.0968</td>\n",
       "      <td>2341.402</td>\n",
       "      <td>3103.436</td>\n",
       "      <td>1087.6404</td>\n",
       "      <td>27.2076</td>\n",
       "      <td>61.936</td>\n",
       "      <td>11.2812</td>\n",
       "      <td>6636.0</td>\n",
       "    </tr>\n",
       "    <tr>\n",
       "      <th>All</th>\n",
       "      <td>14.0000</td>\n",
       "      <td>10585.000</td>\n",
       "      <td>14030.000</td>\n",
       "      <td>4917.0000</td>\n",
       "      <td>123.0000</td>\n",
       "      <td>280.000</td>\n",
       "      <td>51.0000</td>\n",
       "      <td>30000.0</td>\n",
       "    </tr>\n",
       "  </tbody>\n",
       "</table>\n",
       "</div>"
      ],
      "text/plain": [
       "EDUCATION        0          1          2          3         4        5  \\\n",
       "default                                                                  \n",
       "0          10.9032   8243.598  10926.564  3829.3596   95.7924  218.064   \n",
       "1           3.0968   2341.402   3103.436  1087.6404   27.2076   61.936   \n",
       "All        14.0000  10585.000  14030.000  4917.0000  123.0000  280.000   \n",
       "\n",
       "EDUCATION        6      All  \n",
       "default                      \n",
       "0          39.7188  23364.0  \n",
       "1          11.2812   6636.0  \n",
       "All        51.0000  30000.0  "
      ]
     },
     "execution_count": 44,
     "metadata": {},
     "output_type": "execute_result"
    }
   ],
   "source": [
    "# Построим таблицу сопряжённости \"Education-Default\" ОЖИДАЕМЫХ значений\n",
    "# Для этого используем функцию chi2_contingency() класса stats библиотеки scipy\n",
    "col_label = list(range(0,7))+['All']\n",
    "row_label = list(range(0,2))+['All']\n",
    "\n",
    "expect_values = scipy.stats.chi2_contingency(df_cross_obs, correction=False)[3]\n",
    "df_cross_expect = pd.DataFrame(expect_values, index=row_label, columns=col_label)\n",
    "df_cross_expect.rename_axis('EDUCATION', axis='columns', inplace=True)\n",
    "df_cross_expect.rename_axis('default', axis='index', inplace=True)\n",
    "df_cross_expect"
   ]
  },
  {
   "cell_type": "code",
   "execution_count": 51,
   "metadata": {},
   "outputs": [],
   "source": [
    "# Построим таблицу сопряжённости \"Education-Default\" для РАЗНОСТИ наблюдаемых и ожидаемых значений\n",
    "df_cross_sub = df_cross_obs.sub(df_cross_expect)\n",
    "\n",
    "# Нормируем как предполагает критерий\n",
    "df_cross_sub_norm = df_cross_sub.apply(lambda x: x**2).div(df_cross_expect)"
   ]
  },
  {
   "cell_type": "markdown",
   "metadata": {},
   "source": [
    "Наглядно продемонстрируем разницу в ожидаемых и наблюдаемых значениях количества человек вернувших и не вернувших долг"
   ]
  },
  {
   "cell_type": "code",
   "execution_count": 52,
   "metadata": {},
   "outputs": [
    {
     "data": {
      "image/png": "[encoded data removed]",
      "text/plain": [
       "<Figure size 792x432 with 3 Axes>"
      ]
     },
     "metadata": {
      "needs_background": "light"
     },
     "output_type": "display_data"
    }
   ],
   "source": [
    "# Построим теплокарты (heatmaps) всех таблиц сопряжённости\n",
    "fig, ax = plt.subplots(3,1, figsize=(11,6))\n",
    "ax[0].imshow(df_cross_obs.iloc[:2,:7], cmap='Oranges')\n",
    "ax[0].set_title(u'Теплокарта №1 для наблюдаемых значений')\n",
    "\n",
    "ax[1].imshow(df_cross_expect.iloc[:2,:7], cmap='Oranges')\n",
    "ax[1].set_title(u'Теплокарта №2 для ожидаемых значений')\n",
    "\n",
    "ax[2].imshow(df_cross_sub_norm.iloc[:2,:7], cmap='Oranges')\n",
    "ax[2].set_title(u'Теплокарта №3 нормированной разности наблюдений и ожиданий')\n",
    "\n",
    "plt.tight_layout();"
   ]
  },
  {
   "cell_type": "markdown",
   "metadata": {},
   "source": [
    "Heatmap №1 показывает, что бОльшая часть не вернувших кредит принадлежит группам с education=1, 2 и 3. Надо отметить, что и заёмщиков из групп с education=1, 2 и 3 больше.\n",
    "\n",
    "Heatmap нормированной разности наблюдений и ожиданий (слагаемые $\\chi^2$) показывает группы с наибольшим вкладом в опровержение нулевой гипотезы об отсутствии связи между образованием и возвратом/не возвратом долга."
   ]
  },
  {
   "cell_type": "code",
   "execution_count": 53,
   "metadata": {},
   "outputs": [
    {
     "name": "stdout",
     "output_type": "stream",
     "text": [
      "chi2 = 163.2165578699707\n",
      "p_value = 1.5987086709565762e-27\n"
     ]
    }
   ],
   "source": [
    "# Мы уже посчитали критерий, когда использовали scipy.stats.chi2_contingency\n",
    "# Осталось вызвать результат:\n",
    "chi2, p_value = scipy.stats.chi2_contingency(df_cross_obs, correction=False)[0:2]\n",
    "print ('chi2 = {}\\np_value = {}'.format(chi2, p_value))"
   ]
  },
  {
   "cell_type": "markdown",
   "metadata": {},
   "source": [
    "p_value очень мало, поэтому нулевую гипотезу отвергаем"
   ]
  },
  {
   "cell_type": "code",
   "execution_count": 55,
   "metadata": {},
   "outputs": [
    {
     "name": "stdout",
     "output_type": "stream",
     "text": [
      "chi2_crosstab = 163.2165578699707\n"
     ]
    }
   ],
   "source": [
    "# chi2 можно получить и по-другому, просто сложив все ячейки df_cross_sub_norm\n",
    "chi2_crosstab = df_cross_sub_norm.values[0:2].sum()\n",
    "print ('chi2_crosstab = {}'.format(chi2_crosstab))"
   ]
  },
  {
   "cell_type": "code",
   "execution_count": 56,
   "metadata": {},
   "outputs": [
    {
     "data": {
      "image/png": "[encoded data removed]",
      "text/plain": [
       "<Figure size 432x288 with 1 Axes>"
      ]
     },
     "metadata": {
      "needs_background": "light"
     },
     "output_type": "display_data"
    }
   ],
   "source": [
    "# Посмотрим на отношения \"default=1 / default=0\" в каждой группе EDUCATION\n",
    "# Нормируем таблицу сопряжённости наблюдаемых значений по каждому столбцу\n",
    "df_cross_obs_norm = pd.crosstab(data.default, data.EDUCATION, normalize='columns')\n",
    "\n",
    "plt.figure()\n",
    "x = list(range(0,7))\n",
    "y = df_cross_obs_norm.values[1]\n",
    "plt.bar(x,y)\n",
    "plt.xlabel('EDUCATION')\n",
    "plt.ylabel('Ratio')\n",
    "plt.title(u'Отношение кредитов с долгом к общему количеству кредитов в каждой группе EDUCATION');"
   ]
  },
  {
   "cell_type": "markdown",
   "metadata": {},
   "source": [
    "Видим, что группа education=0 (доктора наук) вообще не имеет должников. Самая высокая доля неплательщиков у education=3 - выпускников школы."
   ]
  },
  {
   "cell_type": "markdown",
   "metadata": {},
   "source": [
    "**Выводы 4:**\n",
    "- образование *влияет* на вероятность возврата кредита;\n",
    "- заёмщики из группы докторов наук *вернут* кредит с большей вероятностью, чем заёмщики из других групп;\n",
    "- заёмщики из группы выпускников школ *не вернут* кредит с большей вероятностью, чем заёмщики из других групп."
   ]
  },
  {
   "cell_type": "markdown",
   "metadata": {},
   "source": [
    "## Влияние семейного положения"
   ]
  },
  {
   "cell_type": "code",
   "execution_count": 58,
   "metadata": {},
   "outputs": [
    {
     "name": "stdout",
     "output_type": "stream",
     "text": [
      "default  MARRIAGE\n",
      "0        0              49\n",
      "         1           10453\n",
      "         2           12623\n",
      "         3             239\n",
      "1        0               5\n",
      "         1            3206\n",
      "         2            3341\n",
      "         3              84\n",
      "dtype: int64\n"
     ]
    },
    {
     "data": {
      "image/png": "[encoded data removed]",
      "text/plain": [
       "<Figure size 432x288 with 1 Axes>"
      ]
     },
     "metadata": {
      "needs_background": "light"
     },
     "output_type": "display_data"
    }
   ],
   "source": [
    "# Распределение default по семейному положению\n",
    "print (data.groupby(['default', 'MARRIAGE']).size())\n",
    "\n",
    "ax = df_grouped['MARRIAGE'].plot(kind='hist', title=('\"default\" distribution depending on MARRIAGE')\\\n",
    "                                 ,legend=True, xticks=np.arange(0,4))\n",
    "ax=ax[0]\n",
    "ax.set_xlabel('refuse(0),  married(1),  single(2),  NaN(3)');"
   ]
  },
  {
   "cell_type": "code",
   "execution_count": 59,
   "metadata": {},
   "outputs": [
    {
     "data": {
      "image/png": "[encoded data removed]",
      "text/plain": [
       "<Figure size 576x288 with 2 Axes>"
      ]
     },
     "metadata": {
      "needs_background": "light"
     },
     "output_type": "display_data"
    }
   ],
   "source": [
    "# Посмотрим отдельно на группы 0 и 3\n",
    "import seaborn as sns\n",
    "sns.catplot('MARRIAGE', col=\"default\", hue='default', data=data[(data.MARRIAGE == 0) | (data.MARRIAGE == 3)]\\\n",
    "            ,kind='count', height=4);"
   ]
  },
  {
   "cell_type": "code",
   "execution_count": 60,
   "metadata": {},
   "outputs": [
    {
     "data": {
      "image/png": "[encoded data removed]",
      "text/plain": [
       "<Figure size 432x288 with 1 Axes>"
      ]
     },
     "metadata": {
      "needs_background": "light"
     },
     "output_type": "display_data"
    }
   ],
   "source": [
    "pd.crosstab(data.default, data.MARRIAGE, normalize='columns').plot.bar();"
   ]
  },
  {
   "cell_type": "markdown",
   "metadata": {},
   "source": [
    "На графиках видим, что наименьшая доля просроченых кредитов у группы MARRIAGE=0. Доля просрочек у остальных категорий примерно одинакова"
   ]
  },
  {
   "cell_type": "markdown",
   "metadata": {},
   "source": [
    "Для **количественной** оценки связи семейного статуса с индикатором дефолта воспользуемся v-критерием Крамера, т.к. наши признаки категориальные"
   ]
  },
  {
   "cell_type": "code",
   "execution_count": 61,
   "metadata": {},
   "outputs": [],
   "source": [
    "# Функция для вычисления v-критерия Крамера\n",
    "def v_cramer(chi2, n, dof_min):\n",
    "    return np.sqrt(chi2 / (n*(dof_min - 1)))"
   ]
  },
  {
   "cell_type": "code",
   "execution_count": 62,
   "metadata": {},
   "outputs": [],
   "source": [
    "# Параметры для вычисления v-критерия Крамера\n",
    "chi2, p_value = scipy.stats.chi2_contingency(pd.crosstab(data.default, data.MARRIAGE), correction=False)[0:2]\n",
    "n = pd.crosstab(data.default, data.MARRIAGE).values.flatten().sum()\n",
    "dof_min = np.min(pd.crosstab(data.default, data.MARRIAGE).shape)"
   ]
  },
  {
   "cell_type": "code",
   "execution_count": 66,
   "metadata": {},
   "outputs": [
    {
     "name": "stdout",
     "output_type": "stream",
     "text": [
      "v_cramer = 0.034478203662766466\n"
     ]
    }
   ],
   "source": [
    "print ('v_cramer = {}'.format(v_cramer(chi2, n, dof_min)))"
   ]
  },
  {
   "cell_type": "markdown",
   "metadata": {},
   "source": [
    "**Вывод 5:** Коэффициент корреляции Крамера достаточно мал, что говорит об отсутствии взаимосвязи"
   ]
  },
  {
   "cell_type": "markdown",
   "metadata": {},
   "source": [
    "## Влияние возраста"
   ]
  },
  {
   "cell_type": "code",
   "execution_count": 68,
   "metadata": {},
   "outputs": [
    {
     "data": {
      "image/png": "[encoded data removed]",
      "text/plain": [
       "<Figure size 432x288 with 1 Axes>"
      ]
     },
     "metadata": {
      "needs_background": "light"
     },
     "output_type": "display_data"
    }
   ],
   "source": [
    "# Визуально сравним распределения\n",
    "df_grouped['AGE'].plot(kind='hist', bins=60, legend=True, range=(20, 80))\n",
    "plt.title('AGE distribution')\n",
    "plt.xlabel('AGE value');"
   ]
  },
  {
   "cell_type": "code",
   "execution_count": 69,
   "metadata": {},
   "outputs": [
    {
     "name": "stdout",
     "output_type": "stream",
     "text": [
      "95% confidence interval for the default=0: [ 34.  34.]\n",
      "95% confidence interval for the default=1: [ 34.  35.]\n",
      "95% confidence interval for delta median:  [-1.  0.]\n"
     ]
    }
   ],
   "source": [
    "# Интервальная оценка медианы\n",
    "def_0 = data[data.default==0].AGE.values\n",
    "def_1 = data[data.default==1].AGE.values\n",
    "\n",
    "np.random.seed(0)\n",
    "\n",
    "def_0_med = list(map(np.median, get_bootstrap_samples(def_0, 1000)))\n",
    "def_1_med = list(map(np.median, get_bootstrap_samples(def_1, 1000)))\n",
    "delta_med = list(map(lambda x: x[0] - x[1], zip(def_0_med, def_1_med)))\n",
    "\n",
    "print ('95% confidence interval for the default=0: {}'.format(stat_intervals(def_0_med, 0.05)))\n",
    "print ('95% confidence interval for the default=1: {}'.format(stat_intervals(def_1_med, 0.05)))\n",
    "print ('95% confidence interval for delta median:  {}'.format(stat_intervals(delta_med, 0.05)))"
   ]
  },
  {
   "cell_type": "markdown",
   "metadata": {},
   "source": [
    "0 входит в доверительный интервал, но приэтом является его границей. Поэтому нужно провести дополнительную проверку перестановочным критерием "
   ]
  },
  {
   "cell_type": "code",
   "execution_count": 70,
   "metadata": {},
   "outputs": [
    {
     "name": "stdout",
     "output_type": "stream",
     "text": [
      "p-value: 0.0145%\n"
     ]
    }
   ],
   "source": [
    "print ('p-value: {}%'.format(permutation_test(def_0, def_1, max_permutations = 2000)))"
   ]
  },
  {
   "cell_type": "markdown",
   "metadata": {},
   "source": [
    "**Вывод 6:** p-value меньше уровеня значимости 0.05, поэтому нулевую гипотезу о равенстве распределений мы должны отвергнуть. Однако, если построить описательную статистику (ниже), то можно увидеть, что все точечные характеристики рапределения default в зависимости от возраста равны или практически равны. Это наталкивает на мысль, что с практической точки зрения возраст как признак можно исключить из модели для предсказания риска невозврата кредита."
   ]
  },
  {
   "cell_type": "code",
   "execution_count": 406,
   "metadata": {},
   "outputs": [
    {
     "data": {
      "text/html": [
       "<div>\n",
       "<style scoped>\n",
       "    .dataframe tbody tr th:only-of-type {\n",
       "        vertical-align: middle;\n",
       "    }\n",
       "\n",
       "    .dataframe tbody tr th {\n",
       "        vertical-align: top;\n",
       "    }\n",
       "\n",
       "    .dataframe thead th {\n",
       "        text-align: right;\n",
       "    }\n",
       "</style>\n",
       "<table border=\"1\" class=\"dataframe\">\n",
       "  <thead>\n",
       "    <tr style=\"text-align: right;\">\n",
       "      <th></th>\n",
       "      <th>count</th>\n",
       "      <th>mean</th>\n",
       "      <th>std</th>\n",
       "      <th>min</th>\n",
       "      <th>25%</th>\n",
       "      <th>50%</th>\n",
       "      <th>75%</th>\n",
       "      <th>max</th>\n",
       "    </tr>\n",
       "    <tr>\n",
       "      <th>default</th>\n",
       "      <th></th>\n",
       "      <th></th>\n",
       "      <th></th>\n",
       "      <th></th>\n",
       "      <th></th>\n",
       "      <th></th>\n",
       "      <th></th>\n",
       "      <th></th>\n",
       "    </tr>\n",
       "  </thead>\n",
       "  <tbody>\n",
       "    <tr>\n",
       "      <th>0</th>\n",
       "      <td>23364.0</td>\n",
       "      <td>35.417266</td>\n",
       "      <td>9.077355</td>\n",
       "      <td>21.0</td>\n",
       "      <td>28.0</td>\n",
       "      <td>34.0</td>\n",
       "      <td>41.0</td>\n",
       "      <td>79.0</td>\n",
       "    </tr>\n",
       "    <tr>\n",
       "      <th>1</th>\n",
       "      <td>6636.0</td>\n",
       "      <td>35.725738</td>\n",
       "      <td>9.693438</td>\n",
       "      <td>21.0</td>\n",
       "      <td>28.0</td>\n",
       "      <td>34.0</td>\n",
       "      <td>42.0</td>\n",
       "      <td>75.0</td>\n",
       "    </tr>\n",
       "  </tbody>\n",
       "</table>\n",
       "</div>"
      ],
      "text/plain": [
       "           count       mean       std   min   25%   50%   75%   max\n",
       "default                                                            \n",
       "0        23364.0  35.417266  9.077355  21.0  28.0  34.0  41.0  79.0\n",
       "1         6636.0  35.725738  9.693438  21.0  28.0  34.0  42.0  75.0"
      ]
     },
     "execution_count": 406,
     "metadata": {},
     "output_type": "execute_result"
    }
   ],
   "source": [
    "df_grouped['AGE'].describe()"
   ]
  },
  {
   "cell_type": "code",
   "execution_count": null,
   "metadata": {},
   "outputs": [],
   "source": []
  }
 ],
 "metadata": {
  "kernelspec": {
   "display_name": "Python 3",
   "language": "python",
   "name": "python3"
  },
  "language_info": {
   "codemirror_mode": {
    "name": "ipython",
    "version": 3
   },
   "file_extension": ".py",
   "mimetype": "text/x-python",
   "name": "python",
   "nbconvert_exporter": "python",
   "pygments_lexer": "ipython3",
   "version": "3.7.0"
  }
 },
 "nbformat": 4,
 "nbformat_minor": 2
}
